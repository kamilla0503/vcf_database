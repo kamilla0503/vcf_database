{
 "cells": [
  {
   "cell_type": "code",
   "execution_count": null,
   "metadata": {},
   "outputs": [],
   "source": [
    "from Models import * \n",
    "from pathlib import Path\n",
    "import re\n",
    "import numpy as np "
   ]
  },
  {
   "cell_type": "code",
   "execution_count": null,
   "metadata": {},
   "outputs": [],
   "source": [
    "database.create_tables([Sample, Mutations])"
   ]
  },
  {
   "cell_type": "code",
   "execution_count": null,
   "metadata": {},
   "outputs": [],
   "source": [
    "current_directiry =  Path().absolute()\n",
    "\n",
    "database.connect()"
   ]
  },
  {
   "cell_type": "code",
   "execution_count": null,
   "metadata": {},
   "outputs": [],
   "source": [
    "for fn in Path(current_directiry).glob(\"*.vcf\"): #проход по папке \n",
    "    sample_data = str(fn).split(\".\")\n",
    "    sample_type = sample_data[1]\n",
    "    sample_citonumber = int(sample_data[2].split(\"_\")[1])\n",
    "    print(sample_type, sample_citonumber)\n",
    "    try:\n",
    "        sample_to_base = Sample.create(Sample_name = sample_citonumber, Type = sample_type)\n",
    "    except IntegrityError:\n",
    "            continue\n",
    "    f = open(fn, 'r')\n",
    "    for l in f :\n",
    "        if (not l.startswith('##')) and (not l.startswith('#')):\n",
    "            mutation_data = l.split('\\t')\n",
    "            #print(mutation_data)\n",
    "            chromosome_data = mutation_data[0]\n",
    "            position_data  =  mutation_data[1]\n",
    "            mutation_name_data  = mutation_data[2]\n",
    "            read_depth_data= int(re.search(r'DP=(\\d+)', mutation_data[7] )[1]) #? \n",
    "            alleles = np.array( mutation_data[-1].split(':')[0].split('/'),int  )\n",
    "            #types = {0: mutation_data[3] }\n",
    "            types = [mutation_data[3]]\n",
    "            for i in range(alleles.max()):\n",
    "                types.append(mutation_data[4][i])\n",
    "   \n",
    "            genotypes_data = types[alleles[0] ] + '/' + types[alleles[1] ]\n",
    "            #print(genotypes_data)\n",
    "            mutation_to_base = Mutations.create( sample = sample_to_base,chromosome = chromosome_data,position =  position_data,\n",
    "                                        mutation_name = mutation_name_data,read_depth = read_depth_data,genotype = genotypes_data )\n",
    "\n",
    "            print(chromosome_data, position_data)\n",
    "    \n",
    "    f.close()\n",
    " "
   ]
  },
  {
   "cell_type": "code",
   "execution_count": null,
   "metadata": {},
   "outputs": [],
   "source": [
    "for sample in Sample.select():\n",
    "    #Sample.get(Sample.Sample_name == sample.Sample_name).delete_instance()\n",
    "    print(sample.Sample_name, sample.Type)"
   ]
  },
  {
   "cell_type": "code",
   "execution_count": null,
   "metadata": {},
   "outputs": [],
   "source": [
    "database.close()"
   ]
  },
  {
   "cell_type": "code",
   "execution_count": null,
   "metadata": {},
   "outputs": [],
   "source": []
  }
 ],
 "metadata": {
  "kernelspec": {
   "display_name": "Python 3",
   "language": "python",
   "name": "python3"
  },
  "language_info": {
   "codemirror_mode": {
    "name": "ipython",
    "version": 3
   },
   "file_extension": ".py",
   "mimetype": "text/x-python",
   "name": "python",
   "nbconvert_exporter": "python",
   "pygments_lexer": "ipython3",
   "version": "3.7.3"
  }
 },
 "nbformat": 4,
 "nbformat_minor": 2
}
