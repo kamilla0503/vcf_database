{
 "cells": [
  {
   "cell_type": "code",
   "execution_count": 1,
   "metadata": {},
   "outputs": [],
   "source": [
    "from Models import * \n",
    "from pathlib import Path\n",
    "#import re\n",
    "#import numpy as np \n",
    "import io\n",
    "import os\n",
    "import pandas as pd"
   ]
  },
  {
   "cell_type": "code",
   "execution_count": 27,
   "metadata": {},
   "outputs": [],
   "source": [
    "current_directiry =  Path().absolute()\n",
    "\n",
    "database.connect()\n",
    "\n"
   ]
  },
  {
   "cell_type": "code",
   "execution_count": null,
   "metadata": {},
   "outputs": [],
   "source": [
    "database.create_tables([Sample, Variants])"
   ]
  },
  {
   "cell_type": "code",
   "execution_count": 28,
   "metadata": {},
   "outputs": [],
   "source": [
    "def read_vcf(path):\n",
    "    with open(path, 'r') as f:\n",
    "        lines = [l for l in f if not l.startswith('##')]\n",
    "    return pd.read_csv(\n",
    "        io.StringIO(''.join(lines)),\n",
    "        dtype={'#CHROM': str, 'POS': int, 'ID': str, 'REF': str, 'ALT': str,\n",
    "               'QUAL': str, 'FILTER': str, 'INFO': str},\n",
    "        sep='\\t'\n",
    "    ).rename(columns={'#CHROM': 'CHROM', 'ID' : 'ID_VARIANT'})\n",
    "\n",
    "standart_columns = {'CHROM', 'POS','ID_VARIANT','REF', 'ALT', 'QUAL','FILTER', 'INFO', 'FORMAT'}"
   ]
  },
  {
   "cell_type": "code",
   "execution_count": 29,
   "metadata": {},
   "outputs": [],
   "source": [
    "def get_DP(format_, sample):\n",
    "    info_DP = list(filter(lambda x: x[0]==\"DP\", zip(format_.split(\":\"), sample.split(\":\"))))\n",
    "    return info_DP[0][1]\n",
    "\n",
    "def get_GT(format_, sample, ref, alt):\n",
    "    info_GT = list(filter(lambda x: x[0]==\"GT\", zip(format_.split(\":\"), sample.split(\":\"))))[0][1].split(\"/\") \n",
    "    info_GT  = list(map( lambda x: int(x), info_GT  ))\n",
    "    nucleotides =  [ref] + alt.split(\",\")\n",
    "    genotype = nucleotides[info_GT[0]] + \"/\" + nucleotides[info_GT[1]]\n",
    "    return genotype"
   ]
  },
  {
   "cell_type": "code",
   "execution_count": 30,
   "metadata": {},
   "outputs": [
    {
     "name": "stdout",
     "output_type": "stream",
     "text": [
      "Panel\n",
      "Exome\n",
      "0:00:21.925077\n"
     ]
    }
   ],
   "source": [
    "import time\n",
    "from datetime import timedelta\n",
    "\n",
    "start_time = time.monotonic()\n",
    "\n",
    "for fn in Path(current_directiry).glob(\"*.vcf\"):\n",
    "     \n",
    "    sample_type = str(fn).split(\".\")[1]\n",
    "     \n",
    "    print(sample_type)\n",
    "    data = read_vcf(fn)\n",
    "    sample_names = list( filter(lambda x: x not in standart_columns, list(data)))\n",
    "    for s in sample_names:\n",
    "        data[\"DP\"] = data.apply(lambda x: get_DP(x[\"FORMAT\"], x[s]), axis=1)\n",
    "        data[\"GT\"] = data.apply(lambda x: get_GT(x[\"FORMAT\"], x[s], x[\"REF\"], x[\"ALT\"]), axis=1)\n",
    "        sample_citonumber = int(s.split(\"_\")[1])\n",
    "        try:\n",
    "            sample_to_base = Sample.create(Sample_name = sample_citonumber, Type = sample_type)\n",
    "            with database.atomic():\n",
    "                data_source = data[[\"CHROM\", \"POS\", \"ID_VARIANT\", \"DP\", \"GT\"]].to_dict(orient='records')\n",
    "                for data_dict in data_source:\n",
    "                    Variants.create(sample= sample_to_base,**data_dict)\n",
    "        except IntegrityError:\n",
    "            continue\n",
    "    \n",
    "end_time = time.monotonic()\n",
    "print(timedelta(seconds=end_time - start_time))"
   ]
  },
  {
   "cell_type": "code",
   "execution_count": 31,
   "metadata": {},
   "outputs": [],
   "source": [
    "#data\n",
    "#list_of_dicts = convert_df_to_list_of_dicts(df)"
   ]
  },
  {
   "cell_type": "code",
   "execution_count": 32,
   "metadata": {},
   "outputs": [
    {
     "name": "stdout",
     "output_type": "stream",
     "text": [
      "3002 Exome\n",
      "3330 Panel\n"
     ]
    }
   ],
   "source": [
    "for sample in Sample.select():\n",
    "    #Sample.get(Sample.Sample_name == sample.Sample_name).delete_instance()\n",
    "    print(sample.Sample_name, sample.Type)"
   ]
  },
  {
   "cell_type": "code",
   "execution_count": 34,
   "metadata": {},
   "outputs": [
    {
     "data": {
      "text/plain": [
       "True"
      ]
     },
     "execution_count": 34,
     "metadata": {},
     "output_type": "execute_result"
    }
   ],
   "source": [
    "database.close()"
   ]
  },
  {
   "cell_type": "code",
   "execution_count": null,
   "metadata": {},
   "outputs": [],
   "source": []
  },
  {
   "cell_type": "code",
   "execution_count": null,
   "metadata": {},
   "outputs": [],
   "source": []
  },
  {
   "cell_type": "code",
   "execution_count": 35,
   "metadata": {},
   "outputs": [],
   "source": [
    "#for sample in Variants.select():\n",
    "    #Sample.get(Sample.Sample_name == sample.Sample_name).delete_instance()\n",
    "    #print(sample.ID_VARIANT, sample.sample)"
   ]
  },
  {
   "cell_type": "code",
   "execution_count": null,
   "metadata": {},
   "outputs": [],
   "source": []
  }
 ],
 "metadata": {
  "kernelspec": {
   "display_name": "Python 3",
   "language": "python",
   "name": "python3"
  },
  "language_info": {
   "codemirror_mode": {
    "name": "ipython",
    "version": 3
   },
   "file_extension": ".py",
   "mimetype": "text/x-python",
   "name": "python",
   "nbconvert_exporter": "python",
   "pygments_lexer": "ipython3",
   "version": "3.7.3"
  }
 },
 "nbformat": 4,
 "nbformat_minor": 2
}
